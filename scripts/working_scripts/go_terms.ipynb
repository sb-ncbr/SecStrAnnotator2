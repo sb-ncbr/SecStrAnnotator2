{
 "metadata": {
  "language_info": {
   "codemirror_mode": {
    "name": "ipython",
    "version": 3
   },
   "file_extension": ".py",
   "mimetype": "text/x-python",
   "name": "python",
   "nbconvert_exporter": "python",
   "pygments_lexer": "ipython3",
   "version": "3.8.5-final"
  },
  "orig_nbformat": 2,
  "kernelspec": {
   "name": "python3",
   "display_name": "Python 3",
   "language": "python"
  }
 },
 "nbformat": 4,
 "nbformat_minor": 2,
 "cells": [
  {
   "cell_type": "code",
   "execution_count": 1,
   "metadata": {},
   "outputs": [],
   "source": [
    "import json\n",
    "from collections import defaultdict\n",
    "import pandas as pd\n",
    "from pathlib import Path\n",
    "SHORT_TYPES = {'Biological_process': 'BP', 'Molecular_function': 'MF', 'Cellular_component': 'CC'}\n",
    "DIR = Path('/home/adam/Workspace/C#/SecStrAnnot2_data/SecStrAPI/CytochromesP450-20200707-full/GO')"
   ]
  },
  {
   "cell_type": "code",
   "execution_count": 2,
   "metadata": {},
   "outputs": [
    {
     "output_type": "execute_result",
     "data": {
      "text/plain": [
       "(183, 360)"
      ]
     },
     "metadata": {},
     "execution_count": 2
    }
   ],
   "source": [
    "# READ GO ANNOTATIONS\n",
    "GO_TERMS_FILE = DIR / 'SetNR-GO.json'\n",
    "with open(GO_TERMS_FILE) as r:\n",
    "    js = json.load(r)\n",
    "domain_to_terms = js['terms']\n",
    "term_to_description = js['descriptions']\n",
    "domain_to_uniprot = js['uniprot']\n",
    "domain_to_uniprot_name = js['uniprot_name']\n",
    "domains = sorted(domain_to_terms.keys())\n",
    "terms = sorted(term_to_description.keys())\n",
    "len(domains), len(terms)"
   ]
  },
  {
   "cell_type": "code",
   "execution_count": 3,
   "metadata": {},
   "outputs": [],
   "source": [
    "term_to_domains = defaultdict(list)\n",
    "for domain, ts in domain_to_terms.items():\n",
    "    for term in ts:\n",
    "        term_to_domains[term].append(domain)"
   ]
  },
  {
   "cell_type": "code",
   "execution_count": 4,
   "metadata": {},
   "outputs": [],
   "source": [
    "# SELECT TAXON GROUP ASSIGNMENTS FOR RELEVANT DOMAINS\n",
    "DOMAIN_TAXON_GROUPS_ORIG = DIR / '..' / 'domains_taxons_groups.tsv'\n",
    "DOMAIN_TAXON_GROUPS = DIR / 'domains_taxons_groups.tsv'\n",
    "with open(DOMAIN_TAXON_GROUPS_ORIG) as r, open(DOMAIN_TAXON_GROUPS, 'w') as w:\n",
    "    for line in r:\n",
    "        dom, tax, group = line.strip().split('\\t')\n",
    "        if dom in domain_to_terms:\n",
    "            print(dom, tax, group, sep='\\t', file=w)"
   ]
  },
  {
   "cell_type": "code",
   "execution_count": 5,
   "metadata": {},
   "outputs": [],
   "source": [
    "# READ MANUALLY MODIFIED TAXON GROUP ASSIGNMENTS (added Anomalous group)\n",
    "DOMAIN_TAXON_GROUPS_WITH_ANOMALOUS = DIR / 'domains_taxons_groups_with_anomalous.tsv'\n",
    "\n",
    "domain_to_group = {}\n",
    "group_to_domains = defaultdict(list)\n",
    "with open(DOMAIN_TAXON_GROUPS_WITH_ANOMALOUS) as r:\n",
    "    for line in r:\n",
    "        dom, tax, group = line.strip().split('\\t')\n",
    "        domain_to_group[dom] = group\n",
    "        group_to_domains[group].append(dom)\n",
    "group_to_domains = dict(group_to_domains)\n",
    "groups = sorted(group_to_domains.keys())"
   ]
  },
  {
   "cell_type": "code",
   "execution_count": 6,
   "metadata": {},
   "outputs": [],
   "source": [
    "def add_go_description(df, term_to_description):\n",
    "    df['Type'] = [SHORT_TYPES[term_to_description[t][0]] for t in df.index]\n",
    "    df['Name'] = [term_to_description[t][1] for t in df.index]\n",
    "    df['Definition'] = [term_to_description[t][2] for t in df.index]"
   ]
  },
  {
   "cell_type": "code",
   "execution_count": 13,
   "metadata": {},
   "outputs": [],
   "source": [
    "# CREATE PANDAS DATAFRAME\n",
    "freq_table = pd.DataFrame(index=terms, columns=groups, data=0)\n",
    "for dom, ts in sorted(domain_to_terms.items()):\n",
    "    for term in ts:\n",
    "        group = domain_to_group[dom]\n",
    "        freq_table[group].loc[term] += 1\n",
    "totals = freq_table.sum(axis=1)\n",
    "freq_table['Total'] = totals\n",
    "add_go_description(freq_table, term_to_description)\n",
    "freq_table.sort_values(by='Total', ascending=False, inplace=True)\n",
    "freq_table.to_csv(DIR / 'GO_groups.csv')"
   ]
  },
  {
   "cell_type": "code",
   "execution_count": 14,
   "metadata": {},
   "outputs": [],
   "source": [
    "# CREATE PANDAS DATAFRAME - ANOMALOUS\n",
    "group_here = 'Anom'\n",
    "terms_here = [term for term in terms if any(domain_to_group[dom]==group_here for dom in term_to_domains[term])]\n",
    "overview_table = pd.DataFrame(index=terms_here, columns=group_to_domains[group_here], data=0)\n",
    "for dom, ts in sorted(domain_to_terms.items()):\n",
    "    if domain_to_group[dom] == group_here:\n",
    "        for term in ts:\n",
    "            group = domain_to_group[dom]\n",
    "            overview_table.loc[term, dom] += 1\n",
    "overview_table['Total'] = overview_table.sum(axis=1)\n",
    "add_go_description(overview_table, term_to_description)\n",
    "overview_table.sort_values(by='Total', ascending=False, inplace=True)\n",
    "overview_table.rename(columns=(lambda col: f'{domain_to_uniprot_name[col]}/{col}' if col in domain_to_uniprot_name else col), inplace=True)\n",
    "overview_table.to_csv(DIR / 'GO_anomalous.csv')"
   ]
  },
  {
   "cell_type": "code",
   "execution_count": null,
   "metadata": {},
   "outputs": [],
   "source": []
  },
  {
   "cell_type": "code",
   "execution_count": null,
   "metadata": {},
   "outputs": [],
   "source": []
  }
 ]
}